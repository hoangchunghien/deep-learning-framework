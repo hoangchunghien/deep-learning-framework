{
 "cells": [
  {
   "cell_type": "code",
   "execution_count": 3,
   "metadata": {},
   "outputs": [],
   "source": [
    "import sys, random, math\n",
    "from collections import Counter\n",
    "import numpy as np\n",
    "\n",
    "np.random.seed(1)\n",
    "random.seed(1)"
   ]
  },
  {
   "cell_type": "code",
   "execution_count": 4,
   "metadata": {},
   "outputs": [],
   "source": [
    "f = open('data/reviews.txt')\n",
    "raw_reviews = f.readlines()\n",
    "f.close()"
   ]
  },
  {
   "cell_type": "code",
   "execution_count": 6,
   "metadata": {},
   "outputs": [],
   "source": [
    "tokens = list(map(lambda x: x.split(' '), raw_reviews))"
   ]
  },
  {
   "cell_type": "code",
   "execution_count": 8,
   "metadata": {},
   "outputs": [],
   "source": [
    "wordcnt = Counter()\n",
    "for sent in tokens:\n",
    "    for word in sent:\n",
    "        wordcnt[word] -= 1"
   ]
  },
  {
   "cell_type": "code",
   "execution_count": 15,
   "metadata": {},
   "outputs": [],
   "source": [
    "vocab = list(set(map(lambda x: x[0], wordcnt.most_common())))"
   ]
  },
  {
   "cell_type": "code",
   "execution_count": 16,
   "metadata": {},
   "outputs": [
    {
     "data": {
      "text/plain": [
       "74075"
      ]
     },
     "execution_count": 16,
     "metadata": {},
     "output_type": "execute_result"
    }
   ],
   "source": [
    "len(vocab)"
   ]
  },
  {
   "cell_type": "code",
   "execution_count": 17,
   "metadata": {},
   "outputs": [],
   "source": [
    "word2index = {}\n",
    "for i, w in enumerate(vocab):\n",
    "    word2index[w] = i"
   ]
  },
  {
   "cell_type": "code",
   "execution_count": 19,
   "metadata": {},
   "outputs": [],
   "source": [
    "concatenated = list()\n",
    "inputs = list()\n",
    "\n",
    "for sent in tokens:\n",
    "    indices = list()\n",
    "    for word in sent:\n",
    "        try:\n",
    "            indices.append(word2index[word])\n",
    "            concatenated.append(word2index[word])\n",
    "        except:\n",
    "            pass\n",
    "    inputs.append(indices)\n",
    "\n",
    "concatenated = np.array(concatenated)\n",
    "np.random.shuffle(inputs)"
   ]
  },
  {
   "cell_type": "code",
   "execution_count": 23,
   "metadata": {},
   "outputs": [],
   "source": [
    "lr = 0.05\n",
    "n_epochs = 2\n",
    "hidden_dim = 50\n",
    "window_size = 2\n",
    "negative_size = 5"
   ]
  },
  {
   "cell_type": "code",
   "execution_count": 24,
   "metadata": {},
   "outputs": [],
   "source": [
    "w_0_1 = (np.random.rand(len(vocab), hidden_dim) - 0.5) * 0.2\n",
    "w_1_2 = np.random.rand(len(vocab), hidden_dim) * 0.1\n",
    "\n",
    "layer_2_target = np.zeros(negative_size + 1)\n",
    "layer_2_target[0] = 1"
   ]
  },
  {
   "cell_type": "code",
   "execution_count": 32,
   "metadata": {},
   "outputs": [],
   "source": [
    "def similar(target='beautiful'):\n",
    "    target_index = word2index[target]\n",
    "    scores = Counter()\n",
    "    \n",
    "    for word, index in word2index.items():\n",
    "        diff = w_0_1[index] - w_0_1[target_index]\n",
    "        scores[word] = -math.sqrt(sum(diff*diff))\n",
    "    return scores.most_common(10)"
   ]
  },
  {
   "cell_type": "code",
   "execution_count": 26,
   "metadata": {},
   "outputs": [],
   "source": [
    "def sigmoid(x):\n",
    "    return 1 / (1 + np.exp(-x))"
   ]
  },
  {
   "cell_type": "code",
   "execution_count": 53,
   "metadata": {},
   "outputs": [
    {
     "name": "stdout",
     "output_type": "stream",
     "text": [
      "Progress:0.99996'terrible', -0.0), ('horrible', -1.0048027372288646), ('dreadful', -1.1053679657346602), ('horrendous', -1.2064280852346534), ('fantastic', -1.2975359203184298), ('ridiculous', -1.317513293499622), ('phenomenal', -1.327543326728076), ('spectacular', -1.3367534547492388), ('hideous', -1.3382692303188353), ('lame', -1.3765826439977096)])]2)]]64)][('terrible', -0.0), ('horrible', -0.8950533592188322), ('dreadful', -1.1003424568447575), ('horrendous', -1.1652813716457397), ('brilliant', -1.2749581810654615), ('fantastic', -1.2761867764563264), ('ridiculous', -1.2928733485944284), ('phenomenal', -1.3016815312550982), ('spectacular', -1.304072365070491), ('lame', -1.3148772722836826)]\n"
     ]
    }
   ],
   "source": [
    "for epoch in range(n_epochs):\n",
    "    for rev_i, review in enumerate(inputs):\n",
    "        for target_i in range(len(review)):\n",
    "            target_samples = (np.random.rand(negative_size) * len(concatenated)).astype('int').tolist()\n",
    "            target_samples = [review[target_i]] + list(concatenated[target_samples])\n",
    "            \n",
    "            left_context = review[max(0, target_i-window_size):target_i]\n",
    "            right_context = review[target_i+1: min(len(review), target_i+window_size)]\n",
    "            \n",
    "            layer_1 = np.mean(w_0_1[left_context+right_context], axis=0)\n",
    "            layer_2 = layer_1.dot(w_1_2[target_samples].T)\n",
    "            \n",
    "            layer_2_delta = layer_2 - layer_2_target\n",
    "            layer_1_delta = layer_2_delta.dot(w_1_2[target_samples])\n",
    "            \n",
    "            w_0_1[left_context+right_context] -= layer_1_delta * lr\n",
    "            w_1_2[target_samples] -= np.outer(layer_2_delta, layer_1) * lr\n",
    "            \n",
    "        if(rev_i % 250 == 0): \n",
    "            sys.stdout.write('\\rProgress:'+str(rev_i/float(len(inputs))) + \" \" + str(similar('terrible'))) \n",
    "        sys.stdout.write('\\rProgress:'+str(rev_i/float(len(inputs))))\n",
    "print(similar('terrible'))"
   ]
  },
  {
   "cell_type": "code",
   "execution_count": 54,
   "metadata": {},
   "outputs": [
    {
     "data": {
      "text/plain": [
       "[('terrible', -0.0),\n",
       " ('horrible', -0.8950533592188322),\n",
       " ('dreadful', -1.1003424568447575),\n",
       " ('horrendous', -1.1652813716457397),\n",
       " ('brilliant', -1.2749581810654615),\n",
       " ('fantastic', -1.2761867764563264),\n",
       " ('ridiculous', -1.2928733485944284),\n",
       " ('phenomenal', -1.3016815312550982),\n",
       " ('spectacular', -1.304072365070491),\n",
       " ('lame', -1.3148772722836826)]"
      ]
     },
     "execution_count": 54,
     "metadata": {},
     "output_type": "execute_result"
    }
   ],
   "source": [
    "similarlar('terrible')"
   ]
  },
  {
   "cell_type": "code",
   "execution_count": 55,
   "metadata": {},
   "outputs": [
    {
     "data": {
      "text/plain": [
       "[('beautiful', -0.0),\n",
       " ('gorgeous', -1.054680577883133),\n",
       " ('creepy', -1.0912263123244257),\n",
       " ('cynical', -1.2933691313458417),\n",
       " ('charming', -1.2953615704372208),\n",
       " ('lovable', -1.3033254314074523),\n",
       " ('courageous', -1.3076863434388148),\n",
       " ('lovely', -1.3152572095219595),\n",
       " ('shallow', -1.3199527940451148),\n",
       " ('bitchy', -1.3430094296132342)]"
      ]
     },
     "execution_count": 55,
     "metadata": {},
     "output_type": "execute_result"
    }
   ],
   "source": [
    "similar('beautiful')"
   ]
  },
  {
   "cell_type": "code",
   "execution_count": 58,
   "metadata": {},
   "outputs": [],
   "source": [
    "def analogy(positive=['terrible', 'good'], negative=['bad']):\n",
    "    query_vect = np.zeros(len(w_0_1[0]))\n",
    "    for w in positive:\n",
    "        query_vect += w_0_1[word2index[w]]\n",
    "    \n",
    "    for w in negative:\n",
    "        query_vect == w_0_1[word2index[w]]\n",
    "    \n",
    "    scores = Counter()\n",
    "    for word,index in word2index.items():\n",
    "        diff = w_0_1[index] - query_vect\n",
    "        scores[word] = -math.sqrt(sum(diff * diff))\n",
    "    return scores.most_common(10)[1:]"
   ]
  },
  {
   "cell_type": "code",
   "execution_count": 71,
   "metadata": {},
   "outputs": [
    {
     "data": {
      "text/plain": [
       "[('decent', -2.148530313786263),\n",
       " ('superb', -2.1563083052860814),\n",
       " ('fine', -2.163027532633638),\n",
       " ('wonderful', -2.1853447802730166),\n",
       " ('terrific', -2.2113512820416856),\n",
       " ('terrible', -2.2380980837053626),\n",
       " ('fantastic', -2.249622530799886),\n",
       " ('brilliant', -2.2718469010978755),\n",
       " ('solid', -2.3744229974322484)]"
      ]
     },
     "execution_count": 71,
     "metadata": {},
     "output_type": "execute_result"
    }
   ],
   "source": [
    "analogy(['terrible', 'great'], ['bad'])"
   ]
  },
  {
   "cell_type": "code",
   "execution_count": 66,
   "metadata": {},
   "outputs": [
    {
     "data": {
      "text/plain": [
       "[('cute', -2.209411857075996),\n",
       " ('poor', -2.248104156055456),\n",
       " ('beautiful', -2.2495242403897),\n",
       " ('smart', -2.2628269720791256),\n",
       " ('dumb', -2.275955553378969),\n",
       " ('creepy', -2.299717469130728),\n",
       " ('lame', -2.335163953787769),\n",
       " ('sweet', -2.349839890013137),\n",
       " ('cool', -2.360097176403257)]"
      ]
     },
     "execution_count": 66,
     "metadata": {},
     "output_type": "execute_result"
    }
   ],
   "source": [
    "analogy(['beautiful','bad'],['great'])"
   ]
  },
  {
   "cell_type": "code",
   "execution_count": null,
   "metadata": {},
   "outputs": [],
   "source": []
  },
  {
   "cell_type": "code",
   "execution_count": null,
   "metadata": {},
   "outputs": [],
   "source": []
  },
  {
   "cell_type": "code",
   "execution_count": null,
   "metadata": {},
   "outputs": [],
   "source": []
  }
 ],
 "metadata": {
  "kernelspec": {
   "display_name": "Python 3",
   "language": "python",
   "name": "python3"
  },
  "language_info": {
   "codemirror_mode": {
    "name": "ipython",
    "version": 3
   },
   "file_extension": ".py",
   "mimetype": "text/x-python",
   "name": "python",
   "nbconvert_exporter": "python",
   "pygments_lexer": "ipython3",
   "version": "3.6.8"
  }
 },
 "nbformat": 4,
 "nbformat_minor": 2
}
