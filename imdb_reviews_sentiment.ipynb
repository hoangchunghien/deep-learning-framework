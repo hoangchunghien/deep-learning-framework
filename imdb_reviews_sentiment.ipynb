{
 "cells": [
  {
   "cell_type": "markdown",
   "metadata": {},
   "source": [
    "## Data preprocessing"
   ]
  },
  {
   "cell_type": "code",
   "execution_count": 1,
   "metadata": {},
   "outputs": [],
   "source": [
    "import sys"
   ]
  },
  {
   "cell_type": "code",
   "execution_count": 2,
   "metadata": {},
   "outputs": [],
   "source": [
    "f = open('data/reviews.txt')"
   ]
  },
  {
   "cell_type": "code",
   "execution_count": 3,
   "metadata": {},
   "outputs": [],
   "source": [
    "raw_reviews = f.readlines()\n",
    "f.close()"
   ]
  },
  {
   "cell_type": "code",
   "execution_count": 4,
   "metadata": {},
   "outputs": [],
   "source": [
    "f = open('data/labels.txt')\n",
    "raw_labels = f.readlines()\n",
    "f.close()"
   ]
  },
  {
   "cell_type": "code",
   "execution_count": 5,
   "metadata": {},
   "outputs": [],
   "source": [
    "tokens = list(map(lambda x: set(x.split(' ')), raw_reviews))"
   ]
  },
  {
   "cell_type": "code",
   "execution_count": null,
   "metadata": {},
   "outputs": [],
   "source": []
  },
  {
   "cell_type": "code",
   "execution_count": 8,
   "metadata": {},
   "outputs": [],
   "source": [
    "vocab = set()\n",
    "for sent in tokens:\n",
    "    for word in sent:\n",
    "        if len(word) > 0:\n",
    "            vocab.add(word)\n",
    "vocab = list(vocab)"
   ]
  },
  {
   "cell_type": "code",
   "execution_count": 9,
   "metadata": {},
   "outputs": [
    {
     "data": {
      "text/plain": [
       "74074"
      ]
     },
     "execution_count": 9,
     "metadata": {},
     "output_type": "execute_result"
    }
   ],
   "source": [
    "len(vocab)"
   ]
  },
  {
   "cell_type": "code",
   "execution_count": 10,
   "metadata": {},
   "outputs": [],
   "source": [
    "word2index = {}\n",
    "for i, word in enumerate(vocab):\n",
    "    word2index[word] = i"
   ]
  },
  {
   "cell_type": "code",
   "execution_count": 16,
   "metadata": {},
   "outputs": [],
   "source": [
    "inputs = list()\n",
    "for sent in tokens:\n",
    "    sent_indices = list()\n",
    "    for word in sent:\n",
    "        try:\n",
    "            sent_indices.append(word2index[word])\n",
    "        except:\n",
    "            pass\n",
    "    inputs.append(list(set(sent_indices)))"
   ]
  },
  {
   "cell_type": "code",
   "execution_count": 17,
   "metadata": {},
   "outputs": [
    {
     "data": {
      "text/plain": [
       "25000"
      ]
     },
     "execution_count": 17,
     "metadata": {},
     "output_type": "execute_result"
    }
   ],
   "source": [
    "len(inputs)"
   ]
  },
  {
   "cell_type": "code",
   "execution_count": 13,
   "metadata": {},
   "outputs": [],
   "source": [
    "targets = list(map(lambda label: 1 if label == 'positive\\n' else 0, raw_labels))"
   ]
  },
  {
   "cell_type": "code",
   "execution_count": 14,
   "metadata": {},
   "outputs": [
    {
     "data": {
      "text/plain": [
       "25000"
      ]
     },
     "execution_count": 14,
     "metadata": {},
     "output_type": "execute_result"
    }
   ],
   "source": [
    "len(targets)"
   ]
  },
  {
   "cell_type": "markdown",
   "metadata": {},
   "source": [
    "## Define neural network"
   ]
  },
  {
   "cell_type": "code",
   "execution_count": 19,
   "metadata": {},
   "outputs": [],
   "source": [
    "import numpy as np\n",
    "np.random.seed(1)"
   ]
  },
  {
   "cell_type": "code",
   "execution_count": 20,
   "metadata": {},
   "outputs": [],
   "source": [
    "def sigmoid(x):\n",
    "    return 1 / (1 + np.exp(-x))"
   ]
  },
  {
   "cell_type": "code",
   "execution_count": 21,
   "metadata": {},
   "outputs": [],
   "source": [
    "lr = 0.01\n",
    "n_epochs = 2\n",
    "hidden_dim = 100"
   ]
  },
  {
   "cell_type": "code",
   "execution_count": 24,
   "metadata": {},
   "outputs": [],
   "source": [
    "w_0_1 = 0.2 * np.random.rand(len(vocab), hidden_dim) - 0.1\n",
    "w_1_2 = 0.2 * np.random.rand(hidden_dim, 1) - 0.1"
   ]
  },
  {
   "cell_type": "code",
   "execution_count": 25,
   "metadata": {},
   "outputs": [],
   "source": [
    "correct, total = 0, 0"
   ]
  },
  {
   "cell_type": "markdown",
   "metadata": {},
   "source": [
    "## Train"
   ]
  },
  {
   "cell_type": "code",
   "execution_count": 58,
   "metadata": {},
   "outputs": [
    {
     "name": "stdout",
     "output_type": "stream",
     "text": [
      "Iter:1 Progress:95.99% Training Accuracy:0.9505510204081633%"
     ]
    }
   ],
   "source": [
    "for e in range(n_epochs):\n",
    "    for i in range(len(inputs) - 1000):\n",
    "        x, y = inputs[i], targets[i]\n",
    "        \n",
    "        # Feed forward\n",
    "        layer_1 = sigmoid(np.sum(w_0_1[x], axis=0))\n",
    "        layer_2 = sigmoid(np.dot(layer_1, w_1_2))\n",
    "        \n",
    "        # Compare loss\n",
    "        layer_2_delta = layer_2 - y\n",
    "        layer_1_delta = layer_2_delta.dot(w_1_2.T)\n",
    "        \n",
    "        # Backprops (Learning)\n",
    "        w_0_1[x] -= layer_1_delta * lr\n",
    "        w_1_2 -= np.outer(layer_1, layer_2_delta) * lr\n",
    "        \n",
    "        if(np.abs(layer_2_delta) < 0.5): \n",
    "            correct += 1\n",
    "        total += 1\n",
    "        \n",
    "        if(i % 10 == 9):\n",
    "            progress = str(i/float(len(inputs))) \n",
    "            sys.stdout.write('\\rIter:'+ str(e)\\\n",
    "                +' Progress:'+ progress[2:4]\\\n",
    "                + '.'+ progress[4:6]\\\n",
    "                + '% Training Accuracy:'\\\n",
    "                + str(correct/float(total)) + '%')"
   ]
  },
  {
   "cell_type": "markdown",
   "metadata": {},
   "source": [
    "## Validate"
   ]
  },
  {
   "cell_type": "code",
   "execution_count": 59,
   "metadata": {},
   "outputs": [
    {
     "name": "stdout",
     "output_type": "stream",
     "text": [
      "Test Accuracy:0.847\n"
     ]
    }
   ],
   "source": [
    "correct,total = (0,0)\n",
    "for i in range(len(inputs)-1000, len(inputs)):\n",
    "    x = inputs[i] \n",
    "    y = targets[i]\n",
    "    layer_1 = sigmoid(np.sum(w_0_1[x],axis=0)) \n",
    "    layer_2 = sigmoid(np.dot(layer_1,w_1_2))\n",
    "    if(np.abs(layer_2 - y) < 0.5): \n",
    "        correct += 1\n",
    "    total += 1\n",
    "print(\"Test Accuracy:\" + str(correct/float(total)))"
   ]
  },
  {
   "cell_type": "markdown",
   "metadata": {},
   "source": [
    "## Similarity"
   ]
  },
  {
   "cell_type": "code",
   "execution_count": 60,
   "metadata": {},
   "outputs": [],
   "source": [
    "from collections import Counter \n",
    "import math\n",
    "\n",
    "def similar(target='beautiful'):\n",
    "    target_index = word2index[target]\n",
    "    scores = Counter()\n",
    "    for word, i in word2index.items():\n",
    "        raw_diff = w_0_1[i] - w_0_1[target_index]\n",
    "        squared_diff = raw_diff * raw_diff\n",
    "        scores[word] = -math.sqrt(sum(squared_diff))\n",
    "    return scores.most_common(10)"
   ]
  },
  {
   "cell_type": "code",
   "execution_count": 62,
   "metadata": {},
   "outputs": [
    {
     "data": {
      "text/plain": [
       "[('beautiful', -0.0),\n",
       " ('overwhelmed', -0.6708802890215515),\n",
       " ('coaster', -0.704180637943038),\n",
       " ('marvel', -0.719600915406048),\n",
       " ('success', -0.725215928067329),\n",
       " ('blew', -0.7293311751014006),\n",
       " ('abrupt', -0.7348427545210663),\n",
       " ('spain', -0.7377739615522476),\n",
       " ('wrapped', -0.7397429336486291),\n",
       " ('carrie', -0.7404587129960085)]"
      ]
     },
     "execution_count": 62,
     "metadata": {},
     "output_type": "execute_result"
    }
   ],
   "source": [
    "similar('beautiful')"
   ]
  },
  {
   "cell_type": "code",
   "execution_count": 63,
   "metadata": {},
   "outputs": [
    {
     "data": {
      "text/plain": [
       "[('terrible', -0.0),\n",
       " ('redeeming', -0.7664680910662351),\n",
       " ('unwatchable', -0.7817053622502813),\n",
       " ('ludicrous', -0.7862764855535681),\n",
       " ('boring', -0.79269943619506),\n",
       " ('mildly', -0.806670140217177),\n",
       " ('forgettable', -0.8081272794659068),\n",
       " ('obnoxious', -0.8111341204820561),\n",
       " ('skip', -0.815202790395448),\n",
       " ('stupidity', -0.818122070925573)]"
      ]
     },
     "execution_count": 63,
     "metadata": {},
     "output_type": "execute_result"
    }
   ],
   "source": [
    "similar('terrible')"
   ]
  },
  {
   "cell_type": "code",
   "execution_count": null,
   "metadata": {},
   "outputs": [],
   "source": []
  }
 ],
 "metadata": {
  "kernelspec": {
   "display_name": "Python 3",
   "language": "python",
   "name": "python3"
  },
  "language_info": {
   "codemirror_mode": {
    "name": "ipython",
    "version": 3
   },
   "file_extension": ".py",
   "mimetype": "text/x-python",
   "name": "python",
   "nbconvert_exporter": "python",
   "pygments_lexer": "ipython3",
   "version": "3.6.8"
  }
 },
 "nbformat": 4,
 "nbformat_minor": 2
}
